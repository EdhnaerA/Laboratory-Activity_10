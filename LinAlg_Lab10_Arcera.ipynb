{
  "nbformat": 4,
  "nbformat_minor": 0,
  "metadata": {
    "colab": {
      "name": "LinAlg_Lab10_Arcera.ipynb",
      "provenance": [],
      "authorship_tag": "ABX9TyNjHw1k6qocxm2sWx0LTCOK",
      "include_colab_link": true
    },
    "kernelspec": {
      "name": "python3",
      "display_name": "Python 3"
    },
    "language_info": {
      "name": "python"
    }
  },
  "cells": [
    {
      "cell_type": "markdown",
      "metadata": {
        "id": "view-in-github",
        "colab_type": "text"
      },
      "source": [
        "<a href=\"https://colab.research.google.com/github/EdhnaerA/Laboratory-Activity_10/blob/main/LinAlg_Lab10_Arcera.ipynb\" target=\"_parent\"><img src=\"https://colab.research.google.com/assets/colab-badge.svg\" alt=\"Open In Colab\"/></a>"
      ]
    },
    {
      "cell_type": "markdown",
      "metadata": {
        "id": "Oj3F0gNqsds2"
      },
      "source": [
        "# **Arcera, Edhnaer**\n",
        "## Laboratory 10 : Linear Transformations"
      ]
    },
    {
      "cell_type": "markdown",
      "metadata": {
        "id": "HWwN-laYs4r9"
      },
      "source": [
        "## **Supplementary Activity** \n",
        "\n",
        "Try to implement the linear transformations using spancs using the scatteplot view. Just do at least one example of linear transformation for a 2D space."
      ]
    },
    {
      "cell_type": "code",
      "metadata": {
        "id": "ZsyfjH-Hr1FU"
      },
      "source": [
        "import numpy as np\n",
        "import matplotlib.pyplot as plt\n",
        "%matplotlib inline"
      ],
      "execution_count": 2,
      "outputs": []
    },
    {
      "cell_type": "code",
      "metadata": {
        "colab": {
          "base_uri": "https://localhost:8080/",
          "height": 620
        },
        "id": "_lzQuqPeyFwT",
        "outputId": "fb0f3986-5b3a-444a-afcc-43f6ce2360a2"
      },
      "source": [
        "\n",
        "def plot_quiv(x,t_mat=np.eye(2)):\n",
        "    A = x @ t_mat\n",
        "    print(A)\n",
        "    size = (5,5)\n",
        "    plt.figure(figsize=(4,4))\n",
        "    plt.xlim(-size[0],size[0])\n",
        "    plt.ylim(-size[1],size[1])\n",
        "    plt.scatter(A[0],A[1], color='red')\n",
        "    plt.grid()\n",
        "    plt.show()\n",
        "\n",
        "E = np.array([\n",
        "    [1, 3],\n",
        "    [0, 1]\n",
        "])\n",
        "\n",
        "scale = np.array([\n",
        "    [4,0],\n",
        "    [0,1]\n",
        "])\n",
        "print(\"Before Scaling\")\n",
        "plot_quiv(E)\n",
        "print(\"After Scaling\")\n",
        "plot_quiv(E, scale)"
      ],
      "execution_count": 4,
      "outputs": [
        {
          "output_type": "stream",
          "text": [
            "Before Scaling\n",
            "[[1. 3.]\n",
            " [0. 1.]]\n"
          ],
          "name": "stdout"
        },
        {
          "output_type": "display_data",
          "data": {
            "image/png": "[encoded data removed]",
            "text/plain": [
              "<Figure size 288x288 with 1 Axes>"
            ]
          },
          "metadata": {
            "tags": [],
            "needs_background": "light"
          }
        },
        {
          "output_type": "stream",
          "text": [
            "After Scaling\n",
            "[[4 3]\n",
            " [0 1]]\n"
          ],
          "name": "stdout"
        },
        {
          "output_type": "display_data",
          "data": {
            "image/png": "[encoded data removed]",
            "text/plain": [
              "<Figure size 288x288 with 1 Axes>"
            ]
          },
          "metadata": {
            "tags": [],
            "needs_background": "light"
          }
        }
      ]
    }
  ]
}